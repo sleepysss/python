{
 "cells": [
  {
   "cell_type": "code",
   "execution_count": 2,
   "id": "94acb0aa",
   "metadata": {},
   "outputs": [],
   "source": [
    "import numpy as np\n",
    "\n",
    "#Datatype\n",
    "\n",
    "#Type\t說明\n",
    "#bool\t布林值\n",
    "#int8\t8 位元有號整數\n",
    "#int16\t16 位元有號整數\n",
    "#int32\t32 位元有號整數\n",
    "#int64\t64 位元有號整數\n",
    "#uint8\t8 位元無號整數\n",
    "#uint16\t16 位元無號整數\n",
    "#uint32\t32 位元無號整數\n",
    "#uint64\t64 位元無號整數\n",
    "#float16\t16 位元浮點數\n",
    "#float32\t32 位元浮點數\n",
    "#float64\t64 位元浮點數\n",
    "#complex64\t64 位元複數\n",
    "#complex128\t128 位元複數\n",
    "\n",
    "#numpy陣列屬性\n",
    "\n",
    "#ndim()：取得陣列的維度數量\n",
    "#shape()：陣列的形狀\n",
    "#size()：陣列的數量\n",
    "#dtype()：資料型態\n",
    "#itemsize()：陣列中元素的大小(位元組為單位)\n",
    "#nbytes()：陣列的大小(位元組為單位) 一般來說 nbytes = itemsize * size\n"
   ]
  },
  {
   "cell_type": "code",
   "execution_count": 24,
   "id": "ff94b4af",
   "metadata": {},
   "outputs": [
    {
     "name": "stdout",
     "output_type": "stream",
     "text": [
      "[4 5 6]\n",
      "<class 'numpy.ndarray'>\n",
      "[0. 0. 0. 0. 0. 0.]\n",
      "[1. 1. 1. 1. 1. 1.]\n",
      "[5 6]\n",
      "[1. 1. 1. 1. 1. 1.]\n",
      "[-0.28515511 -0.77493307 -0.32398274]\n",
      "[0.48340172 1.35554952 1.34006073]\n",
      "[-1. -1. -1.]\n",
      "[-0. -0. -0.]\n",
      "[0.48340172 1.35554952 1.34006073]\n",
      "[0.69527097 1.16428069 1.15760992]\n"
     ]
    }
   ],
   "source": [
    "#建立1d array\n",
    "A=np.array([4,5,6]) #ndarray的元素可以用list或tuple輸入,且必須為同類型\n",
    "print(A)\n",
    "print(type(A))\n",
    "A[0]=10\n",
    "B=np.zeros(6)\n",
    "print(B)\n",
    "C=np.ones(6)\n",
    "print(C)\n",
    "D=A[1:3] #取1~3(不含)\n",
    "print(D)\n",
    "#array的大小一致的話，可以直接做加減乘除的運算，其運算是元素對元素\n",
    "E=B+C\n",
    "print(E)\n",
    "\n",
    "a=np.random.randn(3)  #隨機產生3個數值的一維陣列(0~1的浮點數)\n",
    "b=np.random.randn(3)  \n",
    "ironman_random = np.random.random((3,3)) #建立一個3*3 陣列，在0到1間亂數值\n",
    "b=np.abs(b)\n",
    "c=np.floor(a)  #為不大於數值的最大整數(element-wise)\n",
    "d=np.ceil(a)  #為不小於數值的最小整數(element-wise)\n",
    "e=np.maximum(a,b) #取出a,b中比較大的數值(element-wise)\n",
    "f=np.sqrt(b) #對每個數值開根號\n",
    "print(a)\n",
    "print(b)\n",
    "print(c)\n",
    "print(d)\n",
    "print(e)\n",
    "print(f)"
   ]
  },
  {
   "cell_type": "code",
   "execution_count": 21,
   "id": "37ec0e6b",
   "metadata": {},
   "outputs": [
    {
     "name": "stdout",
     "output_type": "stream",
     "text": [
      "[50 53 56 59]\n",
      "[0 1 2]\n"
     ]
    }
   ],
   "source": [
    "#numpy.arange(start, stop, step, dtype)  此陣列以等差數列的形式產生\n",
    "#  start : 從某數開始，預設為0\n",
    "#  stop : 到某數停止(不包含)\n",
    "#  step : 間格多少\n",
    "#  dtype : bool(布林值), int(整數), float(浮點數), complex(複數)\n",
    "#    1）一个参数时，参数值为终点，起点取默认值0，步长取默认值1。\n",
    "#    2）两个参数时，第一个参数为起点，第二个参数为终点，步长取默认值1。\n",
    "#    3）三个参数时，第一个参数为起点，第二个参数为终点，第三个参数为步长。其中步长支持小数\n",
    "\n",
    "F=np.arange(50,60,3,int)\n",
    "print(F)\n",
    "f=np.arange(3)\n",
    "print(f)\n",
    "\n",
    "#np.logspace(start, stop, num=50, endpoint=True, base=10.0, dtype=None) 此陣列以等比數列的形式產生\n",
    "#  start : 從某數開始\n",
    "#  stop : 到某數停止\n",
    "#  num : start到stop之間有多少數字\n",
    "#  endpoint : True(包含stop); False(不包含stop)，預設為True\n",
    "#  base : 以多少為底數，預設為10.0\n",
    "#  dtype : bool(布林值), int(整數), float(浮點數), complex(複數)"
   ]
  },
  {
   "cell_type": "code",
   "execution_count": 14,
   "id": "e99687f0",
   "metadata": {},
   "outputs": [
    {
     "name": "stdout",
     "output_type": "stream",
     "text": [
      "[[1 2 3]\n",
      " [4 5 6]]\n",
      "[[1 4]\n",
      " [2 5]\n",
      " [3 6]]\n"
     ]
    }
   ],
   "source": [
    "#2d array\n",
    "\n",
    "G=np.array([[1,2,3],[4,5,6]]) #外面需有一層\n",
    "print(G)\n",
    "H=G.T;\n",
    "print(H) #transpose"
   ]
  },
  {
   "cell_type": "code",
   "execution_count": 18,
   "id": "fc688967",
   "metadata": {},
   "outputs": [
    {
     "name": "stdout",
     "output_type": "stream",
     "text": [
      "[[14 32]\n",
      " [32 77]]\n",
      "75\n",
      "[[ 5  6  7  8  9 10]\n",
      " [10 12 14 16 18 20]\n",
      " [10 12 14 16 18 20]\n",
      " [10 12 14 16 18 20]\n",
      " [10 12 14 16 18 20]\n",
      " [ 5  6  7  8  9 10]]\n"
     ]
    }
   ],
   "source": [
    "#矩陣乘法,內積,外積\n",
    "\n",
    "#矩陣乘法（不能直接用＊,那樣是element-wise的）\n",
    "I=G.dot(H)\n",
    "print(I)\n",
    "\n",
    "J=np.array([1,2,2,2,2,1])\n",
    "K=np.array([5,6,7,8,9,10])\n",
    "\n",
    "L=np.inner(J,K)\n",
    "print(L)\n",
    "\n",
    "M=np.outer(J,K)\n",
    "print(M)"
   ]
  },
  {
   "cell_type": "code",
   "execution_count": 34,
   "id": "9a959349",
   "metadata": {},
   "outputs": [
    {
     "name": "stdout",
     "output_type": "stream",
     "text": [
      "float64\n",
      "[0.48340172 1.35554952 1.34006073]\n",
      "int32\n",
      "float64\n",
      "int32\n",
      "[0 1 1]\n",
      "int32\n"
     ]
    }
   ],
   "source": [
    "#改變型態\n",
    "\n",
    "a1=a.astype(np.int32)  #將a的type改成int32，並指派給a1(a不會改到！！！)\n",
    "print(b.dtype)\n",
    "print(b)\n",
    "b1=b.astype(a1.dtype)  \n",
    "print(c.dtype);\n",
    "c=c.astype(np.int32)\n",
    "print(b.dtype)\n",
    "print(b1.dtype)\n",
    "print(b1)\n",
    "print(c.dtype)"
   ]
  },
  {
   "cell_type": "code",
   "execution_count": 38,
   "id": "74ecb56a",
   "metadata": {},
   "outputs": [
    {
     "name": "stdout",
     "output_type": "stream",
     "text": [
      "[False False  True  True  True]\n",
      "[3 4 5]\n",
      "[3 4 5]\n",
      "[ 1  2 99 99 99]\n"
     ]
    }
   ],
   "source": [
    "#布林遮罩:用一個判斷式，判斷是Ture還是Flase，常常用來做資料的分析\n",
    "#舉個例子來說，現在有十萬筆的薪資資料，可以使用布林遮罩的方式將大於平均薪資的資料留下\n",
    "\n",
    "x=np.array([1,2,3,4,5])\n",
    "print(x>2) #按元素判斷\n",
    "print(x[x>2]) #將符合條件的元素取出\n",
    "y=x[x>2] #將符合條件的元素取出並賦給y\n",
    "print(y)\n",
    "x[x>2]=99 #將符合條件的元素改成某值\n",
    "print(x)\n"
   ]
  },
  {
   "cell_type": "code",
   "execution_count": null,
   "id": "83c3acd0",
   "metadata": {},
   "outputs": [],
   "source": [
    "#slice\n",
    "\n",
    "#連續選取：選取索引值a到b的資料x[a:b]\n",
    "#a：選取資料的起始索引，不指定表示從頭開始\n",
    "#b：選取資料的結束索引+1，不指定表示直到陣列結束\n",
    "\n",
    "#間隔選取：x[a:b:c]\n",
    "#a：選取資料的起始索引\n",
    "#b：選取資料的結束索引+1\n",
    "#c：選取資料間隔，以索引值可以被此值整除的元素，不指定表示1\n",
    "\n",
    "#倒序[::-1]\n",
    "#只是單純的把順序反過來，並無數值大小比較\n",
    "\n",
    "#特別用法\n",
    "a = np.array([[1, 2, 3, 4, 5], \n",
    "              [6, 7, 8, 9, 10], \n",
    "              [11, 12, 13, 14, 15], \n",
    "              [16, 17, 18, 19, 20], \n",
    "              [21, 22, 23, 24, 25]])\n",
    "              \n",
    "b = a[(0, 1, 2, 3, 4), (1, 1, 2, 3, 4)] # 取出(0,1),(1,1),(2,2),(3,3),(4,4)的元素\n",
    "c = a[2:, [0, 2]] # 取出第2列以後，第0行及第2行的所有元素\n",
    "d = a[3:, 3:] # 取出第三列以後，第3行以後的所有元素"
   ]
  },
  {
   "cell_type": "code",
   "execution_count": 4,
   "id": "e3f9f130",
   "metadata": {},
   "outputs": [
    {
     "name": "stdout",
     "output_type": "stream",
     "text": [
      "[[1]\n",
      " [2]\n",
      " [3]]\n",
      "[1 2 3]\n",
      "[[ 1  2  3  4]\n",
      " [ 5  6  7  8]\n",
      " [ 9 10 11 12]]\n"
     ]
    }
   ],
   "source": [
    "#reshape\n",
    "x = np.array([1,2,3])\n",
    "x_reshape = x.reshape((3,1)) #改成3列1行 (不會動到x)\n",
    "print(x_reshape)\n",
    "print(x)\n",
    "\n",
    "b = np.arange(1, 13).reshape(3, 4)  #可以合體（？）\n",
    "print(b)\n"
   ]
  },
  {
   "cell_type": "code",
   "execution_count": 44,
   "id": "ba4d6a26",
   "metadata": {},
   "outputs": [
    {
     "name": "stdout",
     "output_type": "stream",
     "text": [
      "[[ 1.  2.  3.  4.  5.]\n",
      " [ 6.  7.  8.  9. 10.]\n",
      " [11. 12. 13. 14. 15.]\n",
      " [16. 17. 18. 19. 20.]]\n",
      "210.0\n",
      "[15. 40. 65. 90.]\n",
      "[34. 38. 42. 46. 50.]\n",
      "20.0\n",
      "20.0\n",
      "1.0\n",
      "10.5\n"
     ]
    }
   ],
   "source": [
    "#統計性質\n",
    "\n",
    "#sum\n",
    "a = np.linspace(1,20,20).reshape(4,5)\n",
    "print(a)\n",
    "q=np.sum(a)  #全部元素加起來  等同a.sum() (不會改到a)\n",
    "print(q)\n",
    "w=np.sum(a,axis = 1)  #axis为1為紀錄每列的total  等同a.sum(axis=1) (不會改到a)\n",
    "print(w)\n",
    "e=np.sum(a,axis = 0)  #axis为0為紀錄每行的total  等同a.sum(axis=0) (不會改到a)\n",
    "print(e)\n",
    "\n",
    "#max,min,mean\n",
    "max_=a.max()  #等同np.max(a)\n",
    "print(max_)\n",
    "min_=a.min()\n",
    "print(min_)\n",
    "mean_=a.mean()\n",
    "print(mean_)\n",
    "std_=a.std() #變異數\n",
    "print(std_)\n",
    "var_=a.var() #標準差\n",
    "print(var_)\n",
    "\n",
    "\n"
   ]
  },
  {
   "cell_type": "code",
   "execution_count": 47,
   "id": "02039f53",
   "metadata": {},
   "outputs": [
    {
     "name": "stdout",
     "output_type": "stream",
     "text": [
      "[[ 1.  2.  3.  4.  5.]\n",
      " [ 6.  7.  8.  9. 10.]\n",
      " [11. 12. 13. 14. 15.]\n",
      " [16. 17. 18. 19. 20.]]\n",
      "[[ 1.  2.  3.  4.  5.]\n",
      " [ 6.  7.  8.  9. 10.]\n",
      " [11. 12. 13. 14. 15.]\n",
      " [16. 17. 18. 19. 20.]]\n"
     ]
    }
   ],
   "source": [
    "#排序\n",
    "print(a)\n",
    "a.sort()  #ascending\n",
    "print(a)\n"
   ]
  },
  {
   "cell_type": "code",
   "execution_count": null,
   "id": "478244ac",
   "metadata": {},
   "outputs": [],
   "source": []
  }
 ],
 "metadata": {
  "kernelspec": {
   "display_name": "Python 3 (ipykernel)",
   "language": "python",
   "name": "python3"
  },
  "language_info": {
   "codemirror_mode": {
    "name": "ipython",
    "version": 3
   },
   "file_extension": ".py",
   "mimetype": "text/x-python",
   "name": "python",
   "nbconvert_exporter": "python",
   "pygments_lexer": "ipython3",
   "version": "3.9.15"
  }
 },
 "nbformat": 4,
 "nbformat_minor": 5
}
