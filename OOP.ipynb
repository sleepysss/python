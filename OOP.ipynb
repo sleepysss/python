{
 "cells": [
  {
   "cell_type": "code",
   "execution_count": null,
   "id": "9fcdf220",
   "metadata": {},
   "outputs": [],
   "source": [
    "分為class和object(instance)兩個層級,和Ｃ＋＋的ＯＯＰ不太一樣"
   ]
  },
  {
   "cell_type": "code",
   "execution_count": null,
   "id": "27843438",
   "metadata": {},
   "outputs": [],
   "source": [
    "#Class:物件的藍圖,定義未來產生的物件的Attribute和Method\n",
    "\n",
    "class classname：\n",
    "　　statement"
   ]
  },
  {
   "cell_type": "code",
   "execution_count": null,
   "id": "cc2e4a61",
   "metadata": {},
   "outputs": [],
   "source": [
    "#Object:透過類別(Class)實際建立的實體\n",
    "\n",
    "object_name = classname()\n",
    "\n",
    "#可用isinstance來判斷class和object的關係\n",
    "isinstance(object_name, class_name)  #是該class的物件的話return true"
   ]
  },
  {
   "cell_type": "code",
   "execution_count": null,
   "id": "1c6f9480",
   "metadata": {},
   "outputs": [],
   "source": [
    "#Attribute：負責存放物件(Object)的資料\n",
    "#分為\n",
    "#(1)實體屬性(instance attribute)：需伴隨物件的生成來建立，也就是透過點(.)的語法或在建構式中所生成的屬性。\n",
    "#(2)類別屬性(class attribute)：定義在類別層級的屬性，也就是在建構式之外的屬性。\n",
    "#                            可以不需要建立物件，直接透過類別名稱存取。\n",
    "#                            各物件共享類別屬性值，也就是說當我們修改類別屬性值時，\n",
    "#                            每一個透過此類別所建立的物件，都會受到影響。\n",
    "\n",
    "\n",
    "object_name.attribute_name = value\n",
    "\n",
    "ex:\n",
    "    \n",
    "(1)   \n",
    "mazda = Cars()  # 建立Cars類別的物件 \n",
    "mazda.color = \"blue\"  #顏色屬性 (Cars裡面不用有,可直接設(透過.的方式來建立物件的屬性))\n",
    "\n",
    "(2)\n",
    "class Student:\n",
    "    name = \"Jane\"  #class attribute\n",
    "    course = \"JavaScript\""
   ]
  },
  {
   "cell_type": "code",
   "execution_count": null,
   "id": "4ddd00df",
   "metadata": {},
   "outputs": [],
   "source": [
    "#Constructor：於建立物件(Object)的同時，會自動執行的方法(Method)。\n",
    "#            所以通常我們會在建構式(Constructor)中初始化物件(Object)的屬性值(Attribute)。\n",
    "#            至少要有一個self參數，之後利用逗號區隔其他屬性。\n",
    "\n",
    "\n",
    "class Cars:\n",
    "    # 建構式\n",
    "    def __init__(self, color, seat):  #color和seat為實體屬性(透過constructor來建立物件的屬性)\n",
    "        self.color = color  # 設定顏色屬性\n",
    "        self.seat = seat  # 設定座位屬性\n",
    "        \n",
    "mazda = Cars(\"blue\", 4) #建立mazda物件(Object)的同時，生成其屬性並且初始化屬性值(color和seat)\n",
    "#第一個self參數，Python編譯器會幫我們把目前物件的參考(mazda)傳給建構式(Constructor)，\n",
    "#所以我們就不需要多此一舉傳入物件。"
   ]
  },
  {
   "cell_type": "code",
   "execution_count": null,
   "id": "6c5db371",
   "metadata": {},
   "outputs": [],
   "source": [
    "#Method:可以想像是物件(Object)的行為。方法(Method)和建構式(Constructor)一樣至少要有一個self參數\n",
    "#分為\n",
    "#(1)實體方法:藉由self來存取物件的屬性及方法,藉此來改變物件的狀態。\n",
    "#          在實體方法裡可透過self._class_Attribute來改變class的狀態\n",
    "#          被呼叫時指向物件,當透過類別呼叫實體方法時，這\n",
    "#          會使得Python編譯器無法將self參數指向物件(Object)，而發生TypeError的錯誤\n",
    "#(2)類別方法:Python類別(Class)中有@classmethod裝飾詞(Decorator)的方法(Method)，\n",
    "#          被呼叫時，相較於實體方法(Instance Method)的self參數指向物件(Object)，\n",
    "#          類別方法(Class Method)為cls參數，指向類別(Class),僅能改變類別的狀態，而無法改變物件的狀態。\n",
    "#          常用來產生物件。\n",
    "#(3)靜態方法：Python類別中有@staticmethod裝飾詞(Decorator)的方法(Method)，可以接受任意的參數，\n",
    "#          也因為它沒有self及cls參數，所以靜態方法(Static Method)無法改變類別及物件的狀態。\n",
    "#          通常應用於方法(Method)中無需存取物件的屬性或方法，單純執行傳入參數或功能上運算的情況。\n",
    "    \n",
    "\n",
    "def method_name(self):\n",
    "　　statement\n",
    "\n",
    "ex:\n",
    "    \n",
    "(1)  \n",
    "def drive(self):\n",
    "    print(\"My car is {self.color} and has {self.seat} seats.\")\n",
    "\n",
    "(2)\n",
    "class Cars:\n",
    "    door = 4  #類別屬性\n",
    "    # 實體方法(Instance Method)\n",
    "    def drive(self):\n",
    "        self.__class__.door = 5\n",
    "\n",
    "\n",
    "(3)\n",
    "class Cars:\n",
    "    door = 4  # 類別屬性\n",
    "    # 類別方法(Class Method)\n",
    "    @classmethod\n",
    "    def open_door(cls):\n",
    "        print(f\"{cls} has {cls.door} doors.\")\n",
    "        \n",
    "(4)       \n",
    "class Cars:\n",
    "    #靜態方法\n",
    "    @staticmethod\n",
    "    def accelerate():\n",
    "        print(\"Accelerate is static method.\") \n",
    "    \n"
   ]
  }
 ],
 "metadata": {
  "kernelspec": {
   "display_name": "Python 3 (ipykernel)",
   "language": "python",
   "name": "python3"
  },
  "language_info": {
   "codemirror_mode": {
    "name": "ipython",
    "version": 3
   },
   "file_extension": ".py",
   "mimetype": "text/x-python",
   "name": "python",
   "nbconvert_exporter": "python",
   "pygments_lexer": "ipython3",
   "version": "3.9.15"
  }
 },
 "nbformat": 4,
 "nbformat_minor": 5
}
