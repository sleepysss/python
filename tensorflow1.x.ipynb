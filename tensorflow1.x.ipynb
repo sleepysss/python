{
 "cells": [
  {
   "cell_type": "code",
   "execution_count": null,
   "id": "1aada244",
   "metadata": {
    "scrolled": true
   },
   "outputs": [],
   "source": [
    "from tensorflow.python.client import device_lib\n",
    "print(device_lib.list_local_devices())"
   ]
  },
  {
   "cell_type": "code",
   "execution_count": null,
   "id": "15c3712c",
   "metadata": {},
   "outputs": [],
   "source": [
    "import tensorflow as tf\n",
    "from tensorflow.examples.tutorials.mnist import input_data\n",
    "from tensorflow.keras.datasets import mnist\n",
    "import matplotlib.pyplot as plt\n",
    "import numpy as np\n",
    "\n",
    "print(tf. __version__)"
   ]
  },
  {
   "cell_type": "code",
   "execution_count": null,
   "id": "cbabe1ca",
   "metadata": {},
   "outputs": [],
   "source": [
    "\"\"\"\n",
    "一般結構：\n",
    "（1）建立計算圖\n",
    "\n",
    "（2）執行計算圖\n",
    "\"\"\"\n",
    "\n",
    "\n"
   ]
  },
  {
   "cell_type": "code",
   "execution_count": null,
   "id": "1cce16f4",
   "metadata": {},
   "outputs": [],
   "source": [
    "#dataset\n",
    "#(1)\n",
    "mnist = input_data.read_data_sets('MNIST_data', one_hot=True)\n",
    "X_train = mnist.train.images\n",
    "Y_train = mnist.train.labels\n",
    "X_test = mnist.test.images\n",
    "Y_test = mnist.test.labels\n",
    "\n"
   ]
  },
  {
   "cell_type": "code",
   "execution_count": null,
   "id": "45c08df0",
   "metadata": {},
   "outputs": [],
   "source": [
    "#model\n",
    "\n",
    "def weight(shape):\n",
    "    return tf.Variable(tf.truncated_normal(shape , stddev=0.1),name = 'W')\n",
    "def bias(shape):\n",
    "    return tf.Variable(tf.constant(0.1,shape=shape),name='b')\n",
    "def conv2d(x,W):\n",
    "    return tf.nn.conv2d(x,W,strides=[1,1,1,1], padding='SAME')\n",
    "def max_pool_2x2(x):\n",
    "    return tf.nn.max_pool(x,ksize=[1,2,2,1],strides=[1,2,2,1],padding='SAME')\n",
    "\n",
    "#tf.name_scope:给计算图中的一组操作命名\n",
    "with tf.name_scope('Input_Layer'):\n",
    "    x=tf.placeholder(\"float\",[None , 784],name='x')\n",
    "    x_image = tf.reshape(x,[-1,28,28,1])\n",
    "\n",
    "with tf.name_scope('C1_Conv'):\n",
    "    W1=weight([5,5,1,16])\n",
    "    b1=bias([16])\n",
    "    Conv1=conv2d(x_image,W1)+b1\n",
    "    C1_Conv = tf.nn.relu(Conv1)\n",
    "with tf.name_scope('C1_pool'):\n",
    "    C1_pool=max_pool_2x2(C1_Conv)\n",
    "\n",
    "with tf.name_scope('C2_Conv'):\n",
    "    W2=weight([5,5,16,36])\n",
    "    b2=bias([36])\n",
    "    Conv2=conv2d(C1_pool,W2)+b2\n",
    "    C2_Conv = tf.nn.relu(Conv2)\n",
    "with tf.name_scope('C2_pool'):\n",
    "    C2_pool=max_pool_2x2(C2_Conv)\n",
    "\n",
    "with tf.name_scope('D_Flat'):\n",
    "    D_Flat = tf.reshape(C2_pool,[-1,1764])\n",
    "\n",
    "with tf.name_scope('hidden'):\n",
    "    W3=weight([1764,128])\n",
    "    b3=bias([128])\n",
    "    hidden=tf.nn.relu(tf.matmul(D_Flat,W3)+b3)\n",
    "    dropout=tf.nn.dropout(hidden,keep_prob=0.8)\n",
    "\n",
    "with tf.name_scope('OUTPUT'):\n",
    "    W4=weight([128,10])\n",
    "    b4=bias([10])\n",
    "    y=tf.nn.softmax(tf.matmul(dropout,W4)+b4)\n"
   ]
  },
  {
   "cell_type": "code",
   "execution_count": null,
   "id": "c5b4225f",
   "metadata": {},
   "outputs": [],
   "source": [
    "#train\n",
    "\n",
    "with tf.name_scope('optimizer'):\n",
    "    #None表示在训练过程中可以使用任意数量的样本，而10则表示标签的维度，即表示有10个不同的分类标签。\n",
    "    #placeholder:\n",
    "    y_label=tf.placeholder(\"float\",[None,10], name='y_label')\n",
    "    #计算整个训练集的平均损失\n",
    "    loss=tf.reduce_mean(tf.nn.softmax_cross_entropy_with_logits(logits=y,labels=y_label))\n",
    "\n",
    "    optimizer = tf.train.AdamOptimizer(learning_rate=0.001).minimize(loss)\n",
    "    \n",
    "with tf.name_scope('eva'):\n",
    "    #比较模型的预测结果和真实标签\n",
    "    #因为y_label是一个one-hot编码的向量，因此在第二个参数中指定axis=1，表示在每个样本的第一维度（即列）中查找最大值的索引。\n",
    "    correct_prediction = tf.equal(tf.argmax(y_label , 1), tf.argmax(y,1))\n",
    "    #计算模型在当前批次上的准确率\n",
    "    accuracy = tf.reduce_mean(tf.cast(correct_prediction , \"float\"))\n",
    "\n",
    "train = 10 #訓練周期數\n",
    "batchSize= 100\n",
    "total= 550 #一輪共幾個batch\n",
    "loss_list=[];epoch_list=[];accuracy_list=[]\n",
    "\n",
    "sess=tf.Session() #建立連結\n",
    "#初始化所有全局变量\n",
    "sess.run(tf.global_variables_initializer()) #初始化所有全局变量\n",
    "#開始訓練\n",
    "for epoch in range(train):\n",
    "    print(\"In epoch:\",epoch)\n",
    "    #each batch\n",
    "    for i in range(total):\n",
    "        print(\"batch:\",i+1)\n",
    "        batch_x,batch_y=mnist.train.next_batch(batchSize) #从MNIST数据集的训练集中获取一个大小为batchSize的批次数据\n",
    "        #optimizer是指optimizer = tf.train.AdamOptimizer(learning_rate=0.001).minimize(loss)這個\n",
    "        #执行前向传播和反向传播，并更新网络的参数\n",
    "        sess.run(optimizer,feed_dict={x:batch_x , y_label:batch_y})\n",
    "        \n",
    "    #使用驗證資料計算準確機率以及誤差。\n",
    "    #执行loss和accuracy操作\n",
    "    loss1,acc=sess.run([loss,accuracy], feed_dict={x:mnist.validation.images, y_label:mnist.validation.labels})\n",
    "    \n",
    "    epoch_list.append(epoch)\n",
    "    loss_list.append(loss1)\n",
    "    accuracy_list.append(acc)\n",
    "    print(\"Train Epoch:\",'%02d' % (epoch+1),\"loss=\",\"{:.9f}\".format(loss1),\" accuracy=\",acc)\n",
    "    \n"
   ]
  }
 ],
 "metadata": {
  "kernelspec": {
   "display_name": "Python 3",
   "language": "python",
   "name": "python3"
  },
  "language_info": {
   "codemirror_mode": {
    "name": "ipython",
    "version": 3
   },
   "file_extension": ".py",
   "mimetype": "text/x-python",
   "name": "python",
   "nbconvert_exporter": "python",
   "pygments_lexer": "ipython3",
   "version": "3.6.13"
  }
 },
 "nbformat": 4,
 "nbformat_minor": 5
}
